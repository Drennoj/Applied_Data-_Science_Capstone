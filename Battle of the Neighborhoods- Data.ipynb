{
 "cells": [
  {
   "cell_type": "markdown",
   "metadata": {},
   "source": [
    "# Battle of the Neighborhoods - Week 4"
   ]
  },
  {
   "cell_type": "markdown",
   "metadata": {},
   "source": [
    "### Data"
   ]
  },
  {
   "cell_type": "markdown",
   "metadata": {},
   "source": [
    "Multiple pieces of data will be utilized for this analysis: \n",
    "* List of zipcodes and neighborhood names in Toronto available on Wikipedia\n",
    "* Venue Data: names, locations, type of cuisine will be pulled utilizing the Foursquare API\n",
    "* The Geographical location of Toronto and the neighborhoods in the form of coordinates\n",
    "\n",
    "1) First step in our process will be to scrape Wikipedia to pull into a dataframe that contains the zipcodes and names of the neighborhoods from Toronto.\n",
    "2) Next we will pull the coordinates for each neighborhood utilizing the zipcodes from the Nominatum library and merge them into the dataframe.\n",
    "3) The Foursquare API will be utilized to pull data on existing venues from each neighborhood including the type of cuisine, ratings, locations, and names.\n", 
    "4) The Data will then be clustered to help identify the best neighborhood and we will utilize the Folium library to visualize these results. 
   ]
  }
 ],
 "metadata": {
  "kernelspec": {
   "display_name": "Python 3",
   "language": "python",
   "name": "python3"
  },
  "language_info": {
   "codemirror_mode": {
    "name": "ipython",
    "version": 3
   },
   "file_extension": ".py",
   "mimetype": "text/x-python",
   "name": "python",
   "nbconvert_exporter": "python",
   "pygments_lexer": "ipython3",
   "version": "3.8.5"
  }
 },
 "nbformat": 4,
 "nbformat_minor": 4
}
