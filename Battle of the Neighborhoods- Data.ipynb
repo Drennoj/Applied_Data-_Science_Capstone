{
 "cells": [
  {
   "cell_type": "markdown",
   "metadata": {},
   "source": [
    "# Battle of the Neighborhoods - Week 4"
   ]
  },
  {
   "cell_type": "markdown",
   "metadata": {},
   "source": [
    "### Data"
   ]
  },
  {
   "cell_type": "markdown",
   "metadata": {},
   "source": [
    "Multiple pieces of data will be utilized for this analysis: \n",
    "* List of zipcodes and neighborhood names in Toronto available on Wikipedia\n",
    "* Venue Data: names, locations, type of cuisine will be pulled utilizing the Foursquare API\n",
    "* The Geographical location of Toronto and the neighborhoods in the form of coordinates\n",
    "\n",
    "We will start by scraping Wikipedia to create a dataframe with the zipcodes and neighborhoods from Toronto. Once this is completed we will then be able to pull the geographic coordinates for each neighborhood using Nominatim from the Geopy library. Using the coordinates we will pull venue data from the Foursquare API to identify what neighborhoods are already saturated with sandwich shops vs. those with potential opportunity to be a unique option for locals.  "
   ]
  }
 ],
 "metadata": {
  "kernelspec": {
   "display_name": "Python 3",
   "language": "python",
   "name": "python3"
  },
  "language_info": {
   "codemirror_mode": {
    "name": "ipython",
    "version": 3
   },
   "file_extension": ".py",
   "mimetype": "text/x-python",
   "name": "python",
   "nbconvert_exporter": "python",
   "pygments_lexer": "ipython3",
   "version": "3.8.5"
  }
 },
 "nbformat": 4,
 "nbformat_minor": 4
}
