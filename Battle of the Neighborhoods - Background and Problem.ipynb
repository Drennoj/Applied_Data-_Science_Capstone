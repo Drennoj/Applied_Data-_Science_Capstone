{
 "cells": [
  {
   "cell_type": "markdown",
   "metadata": {},
   "source": [
    "# Applied Data Science Capstone: Week 4\n",
    " ## Battle of the Neighborhoods"
   ]
  },
  {
   "cell_type": "markdown",
   "metadata": {},
   "source": [
    " ### Background:"
   ]
  },
  {
   "cell_type": "markdown",
   "metadata": {},
   "source": [
    "Perhaps one the most diverse groupings of food available is the sandwich. In the United States you can find thousands of variations with some being famous nationwide or representing a geographic area as the signature sandwich (ex. Philly Cheesesteak). There are dozens of chains specializing in sandwiches, however, few of these chains hold the appeal of local favorites who create loyal customers who will argue for hours on end about whether their favorite sandwich shop is better than the one across the street. \n",
    "\n",
    "Our client hopes to bring this nations love of sandwiches to Toronto and turn it into a viable business by opening up a sandwich shop that will specialize in high quality and unique options. \n"
   ]
  },
  {
   "cell_type": "markdown",
   "metadata": {},
   "source": [
    "### Problem: "
   ]
  },
  {
   "cell_type": "markdown",
   "metadata": {},
   "source": [
    "By leveraging the skills obtained over the course of the IBM Data Science certification courses we will analyze available data to make a recommendation for the most suitable neighborhood to open a sandwich shop. "
   ]
  }
 ],
 "metadata": {
  "kernelspec": {
   "display_name": "Python 3",
   "language": "python",
   "name": "python3"
  },
  "language_info": {
   "codemirror_mode": {
    "name": "ipython",
    "version": 3
   },
   "file_extension": ".py",
   "mimetype": "text/x-python",
   "name": "python",
   "nbconvert_exporter": "python",
   "pygments_lexer": "ipython3",
   "version": "3.8.5"
  }
 },
 "nbformat": 4,
 "nbformat_minor": 4
}
